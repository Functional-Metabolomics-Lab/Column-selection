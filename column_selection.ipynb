{
 "cells": [
  {
   "cell_type": "markdown",
   "id": "637d8e0a-fd5c-46ad-8d1a-a22620f8d229",
   "metadata": {
    "tags": []
   },
   "source": [
    "**Obtaining selective columns from cluster summary files and performing analysis on them and storing them as a new file**<br>\n",
    "Authors: Abzer Kelminal (abzer.shah@uni-tuebingen.de)<br>\n",
    "Edited by:  <br>\n",
    "Input file format: .clustersummary files from the Bucket table obtained via GNPS<br>\n",
    "Outputs: Combined .csv files<br>\n",
    "Dependencies: library(dplyr)"
   ]
  },
  {
   "cell_type": "code",
   "execution_count": null,
   "id": "e5a33410-7e59-40f5-a5c3-2d8c55ed2249",
   "metadata": {
    "tags": []
   },
   "outputs": [],
   "source": [
    "getwd()\n",
    "install.packages('dplyr')\n",
    "library('dplyr')"
   ]
  },
  {
   "cell_type": "markdown",
   "id": "3f1a2f80-fa20-4f86-bbec-7099f367b499",
   "metadata": {
    "tags": []
   },
   "source": [
    "**STEP 1 : Setting the working directory:**\n",
    " Copy the path of your files and simply paste it in setwd.<br> \n",
    " For ex: <font color = blue>(C:\\Users\\Nutzer\\Desktop\\Test_Data)</font>. Make sure to change the \\ symbol to / while copying the path  in setwd"
   ]
  },
  {
   "cell_type": "code",
   "execution_count": null,
   "id": "ee7c9242-50c3-4448-a2f2-0d4904c6fbf0",
   "metadata": {},
   "outputs": [],
   "source": [
    "setwd(\"C:/Users/Nutzer/Desktop/Test_Data\")"
   ]
  },
  {
   "cell_type": "markdown",
   "id": "8d266c9d-6849-4df9-93d6-ca6b9ee8b431",
   "metadata": {},
   "source": [
    "**STEP 2 :** Initially, we get the path of our smaple files, and the folder in which our files are. "
   ]
  },
  {
   "cell_type": "code",
   "execution_count": null,
   "id": "6a787435-abd7-43e6-92f9-d1e795f6290d",
   "metadata": {},
   "outputs": [],
   "source": [
    "pattern=\".clustersummary\"             #Here you can change your file type accordingly as .csv or .xlsx \n",
    "dirs <- dir(path=paste(getwd(), sep=\"\"), pattern=pattern, full.names=TRUE, recursive=TRUE)       # Gets the complete path of each file and store them on 'dirs'\n",
    "folders <- unique(dirname(dirs))      #  Gets the path of the folder with the sample files and store it in 'folders'                                                    \n",
    "files = list.files(folders, pattern=pattern, full.names=TRUE)  # listing the files in 'folders' and store it in 'files'\n",
    "files_1 <- basename((files))  # just gets the name of each files\n",
    "files_2 <- dirname((files))   # gets the folder path of each file"
   ]
  },
  {
   "cell_type": "markdown",
   "id": "d471824b-6d46-437d-a54b-f4432092c8c1",
   "metadata": {},
   "source": [
    "**STEP 3 :** Creating a Result folder to store all the result files"
   ]
  },
  {
   "cell_type": "code",
   "execution_count": null,
   "id": "8309842a-510e-496f-a58f-5f77c6ad6fd4",
   "metadata": {},
   "outputs": [],
   "source": [
    "for (j in 1:length(files))\n",
    "{\n",
    "  files_1[[j]] <- strsplit(files_1[[j]], \".clustersummary\")[[1]]\n",
    "}\n",
    "\n",
    "dir.create(path=paste(files_2[[1]], \"_Results\", sep=\"\"), showWarnings = TRUE)\n",
    "fName <-paste(files_2[[1]], \"_Results\", sep=\"\")"
   ]
  },
  {
   "cell_type": "markdown",
   "id": "885f9bac-7f11-4a0d-875f-13ef2449e657",
   "metadata": {
    "tags": []
   },
   "source": [
    "**STEP 4 :** Reading the files and selecting the columns we need and storing them as new files in Result folder."
   ]
  },
  {
   "cell_type": "code",
   "execution_count": null,
   "id": "aa9db37d-15a5-4249-8a36-924d053eb5e2",
   "metadata": {
    "tags": []
   },
   "outputs": [],
   "source": [
    "\n",
    "temp <- list()  # Creating empty lists\n",
    "final <- list()\n",
    "\n",
    "\n",
    "for (j in 1:length(files))\n",
    "{\n",
    "  \n",
    "  if(pattern == \".clustersummary\") \n",
    "  { \n",
    "    temp[[j]] <- read.csv(file=files[j], header=TRUE, sep=\"\\t\") # Reading the input files and storing all of them into temp list\n",
    "    \n",
    "  }\n",
    "  \n",
    "  clusterID <- temp[[j]] %>% select(starts_with(\"cluster\") & ends_with(\"index\"))          #selecting the columns individually with their names\n",
    "  PrecursorMass<-temp[[j]] %>% select(starts_with(\"precursor\") & ends_with(\"mass\"))\n",
    "  ComponentIndex<-temp[[j]] %>% select(starts_with(\"component\") & ends_with(\"index\"))\n",
    "  LibraryID<-temp[[j]] %>% select(starts_with(\"Library\") & ends_with(\"ID\"))\n",
    "  GNPS<-temp[[j]] %>% select(contains(\"GNPSGROUP\"))   # gets all the columns with the name GNPSGROUP. It ranges from 2 to few columns.\n",
    "  \n",
    "  # Here, we perform the calculations and store them on different variables\n",
    "  BinID <- ifelse(LibraryID == 'N/A',0,1)    \n",
    "  colnames(BinID) <- \"Binary_Library_ID\"\n",
    " \n",
    "  spec<- cbind(clusterID,PrecursorMass,ComponentIndex,LibraryID,BinID,GNPS) #combining all the columns\n",
    "  \n",
    "  final[[j]] <- spec  \n",
    "  write.csv(final[[j]], file=paste(fName, \"/NewFiles_\", files_1[[j]], \".csv\", sep=\"\"), sep='\\t',row.names = F) # The results will be stored as csv files in the Results folder with a starting name \"NewFiles\"\n",
    "  \n",
    "}"
   ]
  }
 ],
 "metadata": {
  "kernelspec": {
   "display_name": "R",
   "language": "R",
   "name": "ir"
  },
  "language_info": {
   "codemirror_mode": "r",
   "file_extension": ".r",
   "mimetype": "text/x-r-source",
   "name": "R",
   "pygments_lexer": "r",
   "version": "3.6.1"
  }
 },
 "nbformat": 4,
 "nbformat_minor": 5
}
